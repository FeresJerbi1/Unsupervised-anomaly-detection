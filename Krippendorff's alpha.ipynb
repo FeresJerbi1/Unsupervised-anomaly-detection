{
 "cells": [
  {
   "cell_type": "code",
   "execution_count": null,
   "id": "1db3b8e0",
   "metadata": {},
   "outputs": [],
   "source": [
    "#Krippendorff's alpha\n",
    "import pandas as pd\n",
    "from simpledorff import calculate_krippendorffs_alpha_for_df\n",
    "from itertools import combinations\n",
    "\n",
    "\n",
    "# Load the CSV file into a pandas DataFrame\n",
    "df = pd.read_csv(\"C:/Users/MSI/Desktop/Labeling Paper/Voting/LEAD/1141/Voting.csv\")\n",
    "model_names = [\"CBLOF\",\"OCSVM\"\n",
    "              ,\"IF\"]\n",
    "#model_names = [\"Coder 1\",\"Coder 2\"]\n",
    "\n",
    "# Create a new DataFrame to store the reformatted data\n",
    "reformatted_data = []\n",
    "\n",
    "# Iterate through each row and each model to reformat the data\n",
    "for index, row in df.iterrows():\n",
    "    for model_name in model_names:\n",
    "        id = index\n",
    "        model = model_name\n",
    "        label = row[model_name]\n",
    "        reformatted_data.append([id, model, label])\n",
    "\n",
    "# Create a new DataFrame with the reformatted data\n",
    "reformatted_df = pd.DataFrame(reformatted_data, columns=[\"rows\", \"model\", \"anomaly\"])\n",
    "# Calculate Krippendorff's alpha for all possible 1 vs 1 scenarios\n",
    "for model1, model2,model3 in combinations(model_names, 3):\n",
    "    alpha_value = calculate_krippendorffs_alpha_for_df(reformatted_df[reformatted_df['model'].isin([model1, model2,model3])],\n",
    "                                                        experiment_col='rows', annotator_col='model', class_col='anomaly')\n",
    "    print(f\"Krippendorff's alpha between {model1} and {model2} and {model3}: {alpha_value:.4f}\")"
   ]
  }
 ],
 "metadata": {
  "kernelspec": {
   "display_name": "Python 3 (ipykernel)",
   "language": "python",
   "name": "python3"
  },
  "language_info": {
   "codemirror_mode": {
    "name": "ipython",
    "version": 3
   },
   "file_extension": ".py",
   "mimetype": "text/x-python",
   "name": "python",
   "nbconvert_exporter": "python",
   "pygments_lexer": "ipython3",
   "version": "3.8.18"
  }
 },
 "nbformat": 4,
 "nbformat_minor": 5
}
