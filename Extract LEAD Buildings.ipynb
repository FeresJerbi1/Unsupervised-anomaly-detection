{
 "cells": [
  {
   "cell_type": "code",
   "execution_count": null,
   "id": "14d47ef1",
   "metadata": {},
   "outputs": [],
   "source": [
    "import pandas as pd\n",
    "from sklearn.preprocessing import MinMaxScaler\n",
    "\n",
    "# Read the CSV file\n",
    "data = pd.read_csv(\"C:/Users/MSI/Desktop/Labeling Paper/LEAD_Labeling.csv\")\n",
    "data = data[data[\"building_id\"]==936]\n",
    "\n",
    "# Count the number of rows where 'anomaly' column is equal to 1\n",
    "anomaly_count = (data['anomaly'] == 1).sum()\n",
    "\n",
    "# Get the total number of samples\n",
    "total_samples = data.shape[0]\n",
    "\n",
    "# Print the results\n",
    "print(f\"Number of rows with 'anomaly' = 1: {anomaly_count}\")\n",
    "print(f\"Total number of samples: {total_samples}\")\n",
    "\n",
    "# Count the number of missing rows\n",
    "missing_rows = data.isnull().sum().sum()\n",
    "\n",
    "# Print the number of missing rows\n",
    "print(f\"Number of missing rows: {missing_rows}\")\n",
    "perc=anomaly_count/total_samples\n",
    "print(perc)\n",
    "columns_to_drop = [\"anomaly\", \"building_id\"]\n",
    "data.drop(columns=columns_to_drop, inplace=True)\n",
    "\n",
    "# Convert 'timestamp' column to datetime\n",
    "data['timestamp'] = pd.to_datetime(data['timestamp'])\n",
    "\n",
    "# Reset the index\n",
    "data.reset_index(drop=True, inplace=True)\n",
    "data"
   ]
  }
 ],
 "metadata": {
  "kernelspec": {
   "display_name": "Python 3 (ipykernel)",
   "language": "python",
   "name": "python3"
  },
  "language_info": {
   "codemirror_mode": {
    "name": "ipython",
    "version": 3
   },
   "file_extension": ".py",
   "mimetype": "text/x-python",
   "name": "python",
   "nbconvert_exporter": "python",
   "pygments_lexer": "ipython3",
   "version": "3.8.18"
  }
 },
 "nbformat": 4,
 "nbformat_minor": 5
}
