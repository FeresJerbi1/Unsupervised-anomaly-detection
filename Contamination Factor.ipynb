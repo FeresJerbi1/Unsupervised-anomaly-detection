{
 "cells": [
  {
   "cell_type": "code",
   "execution_count": null,
   "id": "76f82e17",
   "metadata": {},
   "outputs": [],
   "source": [
    "import pandas as pd\n",
    "from sklearn.preprocessing import MinMaxScaler\n",
    "\n",
    "# Read the CSV file\n",
    "data = pd.read_csv(\"C:/Users/MSI/Desktop/Labeling Paper/eco/house4.csv\")\n",
    "\n",
    "# Count the number of rows where 'anomaly' column is equal to 1\n",
    "anomaly_count = (data['Anomaly'] == 1).sum()\n",
    "\n",
    "# Get the total number of samples\n",
    "total_samples = data.shape[0]\n",
    "\n",
    "# Define the target fraction of anomalies\n",
    "percentage = 0.10\n",
    "\n",
    "# Calculate the target number of anomalies\n",
    "target_anomalies = int(total_samples * (percentage))\n",
    "\n",
    "# If the target number of anomalies is less than the current number, proceed\n",
    "if target_anomalies < anomaly_count:\n",
    "    # Randomly sample anomalies to keep the desired percentage\n",
    "    anomalies_to_keep = data[data['Anomaly'] == 1].sample(target_anomalies, random_state=0)\n",
    "    \n",
    "    # Keep all normal samples\n",
    "    normal_samples = data[data['Anomaly'] == 0]\n",
    "    \n",
    "    # Concatenate the reduced anomalies with the normal samples\n",
    "    reduced_data = pd.concat([anomalies_to_keep, normal_samples], ignore_index=True)\n",
    "    \n",
    "    # Shuffle the data\n",
    "    reduced_data = reduced_data.sample(frac=1, random_state=0).reset_index(drop=True)\n",
    "    \n",
    "    # Update the counts for this iteration\n",
    "    anomaly_count = target_anomalies\n",
    "    total_samples = reduced_data.shape[0]\n",
    "    \n",
    "    # Print the results for this iteration\n",
    "    print(f\"Target anomaly fraction: {percentage}%\")\n",
    "    print(f\"Number of rows with 'anomaly' = 1: {target_anomalies}\")\n",
    "    print(f\"Total number of samples: {total_samples}\")\n",
    "else:\n",
    "    print(f\"Target anomaly fraction of {percentage}% is not achievable with the current data.\")\n",
    "reduced_data.to_csv(\"C:/Users/MSI/Desktop/Labeling Paper/Voting/eco/H1/0.02/ECO.csv\",index=False)\n",
    "columns_to_drop = [\"Anomaly\"]\n",
    "reduced_data.drop(columns=columns_to_drop, inplace=True)\n",
    "# Convert Unix timestamps to datetime\n",
    "reduced_data['timestamp'] = pd.to_datetime(reduced_data['timestamp'], unit='s')\n",
    "# Reset the index\n",
    "reduced_data.reset_index(drop=True, inplace=True)\n",
    "total_samples = reduced_data.shape[0]\n",
    "perc=target_anomalies/total_samples\n",
    "print(perc)"
   ]
  }
 ],
 "metadata": {
  "kernelspec": {
   "display_name": "Python 3 (ipykernel)",
   "language": "python",
   "name": "python3"
  },
  "language_info": {
   "codemirror_mode": {
    "name": "ipython",
    "version": 3
   },
   "file_extension": ".py",
   "mimetype": "text/x-python",
   "name": "python",
   "nbconvert_exporter": "python",
   "pygments_lexer": "ipython3",
   "version": "3.8.18"
  }
 },
 "nbformat": 4,
 "nbformat_minor": 5
}
