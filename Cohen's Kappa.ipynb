{
 "cells": [
  {
   "cell_type": "code",
   "execution_count": null,
   "id": "4c72f435",
   "metadata": {},
   "outputs": [],
   "source": [
    "import pandas as pd\n",
    "from itertools import combinations\n",
    "from sklearn.metrics import cohen_kappa_score\n",
    "from krippendorff import alpha\n",
    "from agreement.metrics import cohens_kappa, krippendorffs_alpha\n",
    "\n",
    "# Load labeled data from each model\n",
    "# Replace the paths with your actual file paths\n",
    "\n",
    "knn_labeled_biat = pd.read_csv(\"C:/Users/MSI/Desktop/eco/KNN_BIAT.csv\")\n",
    "hist_labeled_biat = pd.read_csv(\"C:/Users/MSI/Desktop/eco/histogram_Biat.csv\")\n",
    "mcd_labeled_biat = pd.read_csv(\"C:/Users/MSI/Desktop/eco/MCD_Biat.csv\")\n",
    "cof_labeled_biat = pd.read_csv(\"C:/Users/MSI/Desktop/eco/COF_BIAT.csv\")\n",
    "real = pd.read_csv(\"C:/Users/MSI/Desktop/Labeling Paper/eco/house4.csv\")\n",
    "\n",
    "# Create a list of model names and datasets\n",
    "model_names = [\"KNN\",\"HBOS\",\n",
    "               \"MCD\",\"COF\",\"Real\"]\n",
    "               \n",
    "datasets = [knn_labeled_biat,hist_labeled_biat,\n",
    "           mcd_labeled_biat,cof_labeled_biat,real]\n",
    "\n",
    "# Create a list to store the results\n",
    "results = []\n",
    "\n",
    "# Calculate Cohen's Kappa and percentage agreement between each pair of models\n",
    "for model1, model2 in combinations(model_names, 2):\n",
    "    labels1 = datasets[model_names.index(model1)][\"Anomaly\"].tolist()\n",
    "    labels2 = datasets[model_names.index(model2)][\"Anomaly\"].tolist()\n",
    "    \n",
    "    # Calculate percentage agreement (Pairwise Percent Agreement Measure)\n",
    "    total_cases = len(labels1)\n",
    "    matching_cases = sum(1 for a, b in zip(labels1, labels2) if a == b)\n",
    "    percent_agreement = (matching_cases / total_cases) * 100\n",
    "    \n",
    "    # Calculate Cohen's Kappa\n",
    "    kappa = cohen_kappa_score(labels1, labels2, weights=None)\n",
    "    \n",
    "    results.append((f\"{model1} & {model2}\", f\"{percent_agreement:.2f}%\", f\"{kappa:.3f}\"))\n",
    "\n",
    "# Create a DataFrame to store the results\n",
    "results_df = pd.DataFrame(results, columns=[\"Annotators\", \"PRAM\", \"Cohen's K\"])\n",
    "results_df"
   ]
  }
 ],
 "metadata": {
  "kernelspec": {
   "display_name": "Python 3 (ipykernel)",
   "language": "python",
   "name": "python3"
  },
  "language_info": {
   "codemirror_mode": {
    "name": "ipython",
    "version": 3
   },
   "file_extension": ".py",
   "mimetype": "text/x-python",
   "name": "python",
   "nbconvert_exporter": "python",
   "pygments_lexer": "ipython3",
   "version": "3.8.18"
  }
 },
 "nbformat": 4,
 "nbformat_minor": 5
}
