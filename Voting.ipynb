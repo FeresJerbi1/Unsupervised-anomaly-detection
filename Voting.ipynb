{
 "cells": [
  {
   "cell_type": "code",
   "execution_count": null,
   "id": "a702113b",
   "metadata": {},
   "outputs": [],
   "source": [
    "import pandas as pd\n",
    "# Load labeled data from each model\n",
    "IF = pd.read_csv(\"C:/Users/MSI/Desktop/Labeling Paper/Voting/LEAD/1141/IF_BIAT.csv\")\n",
    "CBLOF = pd.read_csv(\"C:/Users/MSI/Desktop/Labeling Paper/Voting/LEAD/1141/CLUSTER_BIAT.csv\")\n",
    "OCSVM = pd.read_csv(\"C:/Users/MSI/Desktop/Labeling Paper/Voting/LEAD/1141/OCSVM_BIAT.csv\")\n",
    "# Drop the 'Anomaly_Score' column from each model's data\n",
    "# Combine the 'Anomaly' columns from each model to create the Voting_Anomaly column\n",
    "combined_labeled_data = pd.DataFrame({\n",
    "    'IF': IF['Anomaly'],\n",
    "    'CBLOF': CBLOF['Anomaly'],\n",
    "    'OCSVM': OCSVM['Anomaly']\n",
    "\n",
    "})\n",
    "\n",
    "combined_labeled_data['Anomaly'] = combined_labeled_data.mode(axis=1).iloc[:, 0]\n",
    "combined_labeled_data"
   ]
  }
 ],
 "metadata": {
  "kernelspec": {
   "display_name": "Python 3 (ipykernel)",
   "language": "python",
   "name": "python3"
  },
  "language_info": {
   "codemirror_mode": {
    "name": "ipython",
    "version": 3
   },
   "file_extension": ".py",
   "mimetype": "text/x-python",
   "name": "python",
   "nbconvert_exporter": "python",
   "pygments_lexer": "ipython3",
   "version": "3.8.18"
  }
 },
 "nbformat": 4,
 "nbformat_minor": 5
}
