{
 "cells": [
  {
   "cell_type": "code",
   "execution_count": null,
   "id": "1aa67a01",
   "metadata": {},
   "outputs": [],
   "source": [
    "import pandas as pd\n",
    "from sklearn.preprocessing import StandardScaler\n",
    "\n",
    "data = pd.read_csv(\"C:/Users/MSI/Desktop/Labeling Paper/WATT.csv\")\n",
    "# List of continuous columns to normalize\n",
    "continuous_columns = ['Power', 'Temperature', 'Humidity']  # Add all your continuous columns\n",
    "\n",
    "# Initialize the StandardScaler\n",
    "scaler = StandardScaler()\n",
    "\n",
    "# Normalize the continuous columns using Z-score normalization\n",
    "data[continuous_columns] = scaler.fit_transform(data[continuous_columns])\n",
    "\n",
    "\n",
    "from pycaret.anomaly import *\n",
    "s = setup(data,use_gpu = True,normalize=False)\n",
    "\n",
    "\n",
    "\n",
    "iforest = create_model(\"iforest\",fraction=f)\n",
    "iforest_results = assign_model(iforest)\n",
    "iforest_results.to_csv(\"C:/Users/MSI/Desktop/Labeling Paper/IF_WATT.csv\", index=False)"
   ]
  }
 ],
 "metadata": {
  "kernelspec": {
   "display_name": "Python 3 (ipykernel)",
   "language": "python",
   "name": "python3"
  },
  "language_info": {
   "codemirror_mode": {
    "name": "ipython",
    "version": 3
   },
   "file_extension": ".py",
   "mimetype": "text/x-python",
   "name": "python",
   "nbconvert_exporter": "python",
   "pygments_lexer": "ipython3",
   "version": "3.8.18"
  }
 },
 "nbformat": 4,
 "nbformat_minor": 5
}
