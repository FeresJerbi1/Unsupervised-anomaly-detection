{
 "cells": [
  {
   "cell_type": "code",
   "execution_count": null,
   "id": "dd8356c9",
   "metadata": {},
   "outputs": [],
   "source": [
    "# import pandas as pd\n",
    "import plotly.graph_objects as go\n",
    "\n",
    "# Load the CSV file\n",
    "df = pd.read_csv('C:/Users/MSI/Desktop/labeling paper/eco/house6.csv')\n",
    "# Convert timestamp to datetime format\n",
    "df['timestamp'] = pd.to_datetime(df['timestamp'], unit='s')\n",
    "\n",
    "# Format timestamp as desired\n",
    "df['timestamp'] = df['timestamp'].dt.strftime('%Y-%m-%d %H:%M:%S')\n",
    "df['timestamp'] = pd.to_datetime(df['timestamp'])\n",
    "# Filter the data to include anomalies and normal samples\n",
    "anomaly_points = df[df['Anomaly'] == 1]\n",
    "nrml_points = df[df['Anomaly'] == 0]\n",
    "\n",
    "# Create a scatter plot for anomalies\n",
    "fig = go.Figure()\n",
    "\n",
    "fig.add_trace(go.Scatter(\n",
    "    x=anomaly_points['timestamp'],\n",
    "    y=anomaly_points['power'],\n",
    "    mode='markers',\n",
    "    marker=dict(color='red', opacity=0.5),\n",
    "    name='Anomaly'\n",
    "))\n",
    "\n",
    "# Add a scatter plot for normal samples\n",
    "fig.add_trace(go.Scatter(\n",
    "    x=nrml_points['timestamp'],\n",
    "    y=nrml_points['power'],\n",
    "    mode='markers',\n",
    "    marker=dict(color='blue', opacity=0.5),\n",
    "    name='Normal'\n",
    "))\n",
    "\n",
    "# Add labels and title\n",
    "fig.update_layout(\n",
    "    title='',\n",
    "    xaxis_title='t',\n",
    "    yaxis_title='P',\n",
    "    font=dict(size=18)  # Set font size to 18\n",
    ")\n",
    "\n",
    "# Show the plot\n",
    "fig.show()"
   ]
  }
 ],
 "metadata": {
  "kernelspec": {
   "display_name": "Python 3 (ipykernel)",
   "language": "python",
   "name": "python3"
  },
  "language_info": {
   "codemirror_mode": {
    "name": "ipython",
    "version": 3
   },
   "file_extension": ".py",
   "mimetype": "text/x-python",
   "name": "python",
   "nbconvert_exporter": "python",
   "pygments_lexer": "ipython3",
   "version": "3.8.18"
  }
 },
 "nbformat": 4,
 "nbformat_minor": 5
}
